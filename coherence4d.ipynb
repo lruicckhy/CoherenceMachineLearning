{
 "cells": [
  {
   "cell_type": "code",
   "execution_count": null,
   "id": "ac72d34b",
   "metadata": {
    "tags": []
   },
   "outputs": [],
   "source": [
    "# import used tools\n",
    "import pathlib\n",
    "\n",
    "import matplotlib.pyplot as plt\n",
    "import pandas as pd\n",
    "import seaborn as sns\n",
    "import numpy as np\n",
    "import tensorflow as tf\n",
    "\n",
    "from tensorflow import keras\n",
    "from tensorflow.keras import layers\n",
    "from scipy import stats\n",
    "\n",
    "import time\n",
    "print(tf.__version__)"
   ]
  },
  {
   "cell_type": "code",
   "execution_count": null,
   "id": "6c030ac6",
   "metadata": {},
   "outputs": [],
   "source": [
    "# import the data for dim=4\n",
    "# column ‘0’ is the target: robustness of coherence\n",
    "# the rest columns are the matrix elements\n",
    "# the filenames can be renamed in the matlab program which generates the data\n",
    "\n",
    "\n",
    "# the following 2 files are the data for mixed states\n",
    "dataset_path = 'realEntries4.csv'\n",
    "dataset_path_1 = 'realEntries4-1.csv'\n",
    "dataset_path_pure = 'realEntriesPure4.csv' # pure state\n",
    "\n",
    "# combining all the data into a single dataset\n",
    "column_names=list(range(17))\n",
    "column_names = [str(x) for x in column_names]\n",
    "raw_dataset = pd.read_csv(dataset_path, names=column_names,\n",
    "                      na_values = \"?\", comment='\\t',\n",
    "                      skipinitialspace=True)\n",
    "raw_dataset_1 = pd.read_csv(dataset_path_1, names=column_names,\n",
    "                      na_values = \"?\", comment='\\t',\n",
    "                      skipinitialspace=True)\n",
    "\n",
    "raw_dataset_pure = pd.read_csv(dataset_path_pure, names=column_names,\n",
    "                      na_values = \"?\", comment='\\t',\n",
    "                     skipinitialspace=True)\n",
    "\n",
    "\n",
    "# concate into a single dataset\n",
    "raw_dataset = pd.concat([raw_dataset, raw_dataset_1, raw_dataset_pure], ignore_index=True)\n",
    "\n",
    "\n",
    "dataset = raw_dataset.copy()\n",
    "dataset.head()\n",
    "dataset.shape"
   ]
  },
  {
   "cell_type": "code",
   "execution_count": null,
   "id": "6e82d7a8",
   "metadata": {},
   "outputs": [],
   "source": [
    "# To check for bad values in the data and remove those rows.\n",
    "\n",
    "dataset.isna().sum()\n",
    "dataset = dataset.dropna()"
   ]
  },
  {
   "cell_type": "code",
   "execution_count": null,
   "id": "291c0a74",
   "metadata": {},
   "outputs": [],
   "source": [
    "# To split the data into a training set and a test set.\n",
    "\n",
    "train_dataset = dataset.sample(frac=0.8,random_state=0)\n",
    "test_dataset = dataset.drop(train_dataset.index)"
   ]
  },
  {
   "cell_type": "code",
   "execution_count": null,
   "id": "4eac4e71",
   "metadata": {},
   "outputs": [],
   "source": [
    "# To check the size of the data.\n",
    "test_dataset.shape\n"
   ]
  },
  {
   "cell_type": "code",
   "execution_count": null,
   "id": "0579179b",
   "metadata": {},
   "outputs": [],
   "source": [
    "# To inspect the elements of the matrices in the training set.\n",
    "train_stats = train_dataset.describe()\n",
    "train_stats.pop(\"0\")\n",
    "train_stats = train_stats.transpose()\n",
    "train_stats"
   ]
  },
  {
   "cell_type": "code",
   "execution_count": null,
   "id": "b91b1bf2",
   "metadata": {},
   "outputs": [],
   "source": [
    "# To separate the target from the dataset.\n",
    "train_labels = train_dataset.pop('0')\n",
    "test_labels = test_dataset.pop('0')"
   ]
  },
  {
   "cell_type": "code",
   "execution_count": null,
   "id": "1bcc7fa5",
   "metadata": {},
   "outputs": [],
   "source": [
    "# To normalize the data.\n",
    "def norm(x):\n",
    "  return (x - train_stats['mean']) / train_stats['std']\n",
    "normed_train_data = norm(train_dataset).fillna(0)\n",
    "normed_test_data = norm(test_dataset).fillna(0)"
   ]
  },
  {
   "cell_type": "code",
   "execution_count": null,
   "id": "c7747120",
   "metadata": {},
   "outputs": [],
   "source": [
    "# To build the model.\n",
    "def build_model():\n",
    "  model = keras.Sequential([\n",
    "    layers.Dense(64, activation='relu', input_shape=[len(train_dataset.keys())]),\n",
    "    layers.Dense(64, activation='relu'),  \n",
    "    layers.Dense(64, activation='relu'),\n",
    "    layers.Dense(1)\n",
    "  ])\n",
    "\n",
    "  #optimizer = tf.keras.optimizers.RMSprop(0.0001)\n",
    "  optimizer = tf.keras.optimizers.Adam(learning_rate=0.001)\n",
    "  model.compile(loss='mse',\n",
    "                optimizer=optimizer,\n",
    "                metrics=['mae', 'mse'])\n",
    "  return model"
   ]
  },
  {
   "cell_type": "code",
   "execution_count": null,
   "id": "1e3e2223",
   "metadata": {},
   "outputs": [],
   "source": [
    "model = build_model()"
   ]
  },
  {
   "cell_type": "code",
   "execution_count": null,
   "id": "58c2d439",
   "metadata": {},
   "outputs": [],
   "source": [
    "model.summary()"
   ]
  },
  {
   "cell_type": "code",
   "execution_count": null,
   "id": "774df4c2",
   "metadata": {},
   "outputs": [],
   "source": [
    "def plot_history(history):\n",
    "  hist = pd.DataFrame(history.history)\n",
    "  hist['epoch'] = history.epoch\n",
    "  \n",
    "  plt.style.use('seaborn')  \n",
    "  plt.figure(figsize=(4,3),dpi=120)\n",
    "  plt.xlabel('Epoch')\n",
    "  plt.ylabel('MAE')\n",
    "  plt.plot(hist['epoch'], hist['mae'],\n",
    "           label='Train Error',color='#00468C')\n",
    "  plt.plot(hist['epoch'], hist['val_mae'],\n",
    "           label = 'Validation Error',color='#E95C4B')\n",
    "  plt.ylim([0,0.05])\n",
    "  plt.legend()\n",
    "  plt.savefig('d4MAE.eps',bbox_inches='tight')\n",
    "  plt.figure(figsize=(4,3),dpi=120)\n",
    "\n",
    "  plt.xlabel('Epoch')\n",
    "  plt.ylabel('MSE')\n",
    "  plt.plot(hist['epoch'], hist['mse'],\n",
    "           label='Train Error',color='#00468C')\n",
    "  plt.plot(hist['epoch'], hist['val_mse'],\n",
    "           label = 'Validation Error',color='#E95C4B')\n",
    "  plt.xlim([-0.2,45])\n",
    "  plt.ylim([0,0.001])\n",
    "  plt.legend()\n",
    "  plt.savefig('d4MSE.eps',bbox_inches='tight')\n",
    "  plt.show()"
   ]
  },
  {
   "cell_type": "code",
   "execution_count": null,
   "id": "8c23b7d1",
   "metadata": {},
   "outputs": [],
   "source": [
    "# To train the model\n",
    "\n",
    "class PrintDot(keras.callbacks.Callback):\n",
    "  def on_epoch_end(self, epoch, logs):\n",
    "    if epoch % 100 == 0: print('')\n",
    "    print('.', end='')\n",
    "    \n",
    "EPOCHS = 1000\n",
    "\n",
    "model = build_model()\n",
    "\n",
    "early_stop = keras.callbacks.EarlyStopping(monitor='val_loss', patience=10)\n",
    "\n",
    "history = model.fit(normed_train_data, train_labels, epochs=EPOCHS,\n",
    "                    validation_split = 0.2, verbose=0, callbacks=[early_stop, PrintDot()])\n",
    "\n",
    "plot_history(history)"
   ]
  },
  {
   "cell_type": "code",
   "execution_count": null,
   "id": "536d5410",
   "metadata": {},
   "outputs": [],
   "source": [
    "# To check the condition of the test set.\n",
    "\n",
    "loss, mae, mse = model.evaluate(normed_test_data, test_labels, verbose=2)\n",
    "\n",
    "print(\"Testing set Mean Abs Error: {:5.2f}\".format(mae))"
   ]
  },
  {
   "cell_type": "code",
   "execution_count": null,
   "id": "fc72e9f9",
   "metadata": {},
   "outputs": [],
   "source": [
    "# check the performance of prediction\n",
    "\n",
    "test_predictions = model.predict(normed_test_data).flatten()\n",
    "\n",
    "r2 = round(1 - sum((test_labels - test_predictions) ** 2)/sum((test_labels - np.mean(test_labels)) ** 2),4)\n",
    "\n",
    "plt.figure(figsize=(4,4),dpi=120)\n",
    "plt.style.use('classic')\n",
    "plt.text(1.5,0.75, \"d = 4\",fontsize=16, fontweight='bold', style = 'italic', fontfamily='Times New Roman')\n",
    "plt.text(1.5,0.5,\"R$^2$ = \" + str(r2) + \"\",fontsize=16, fontweight='bold', style = 'italic', fontfamily='Times New Roman')\n",
    "plt.scatter(test_labels[:5000], test_predictions[:5000],\n",
    "            s=20,c='none',edgecolor=(20/255,81/255,124/255),marker=\"o\",alpha=1,linewidth=0.3)\n",
    "plt.xlabel('Actual ROC')\n",
    "plt.ylabel('Predicted ROC')\n",
    "plt.axis('equal')\n",
    "plt.axis('square')\n",
    "plt.xlim([-0.,3.])\n",
    "plt.ylim([-0.,3.])\n",
    "plt.plot([0, 10.05], [0, 10],c='r',lw=1.5,alpha=1)\n",
    "plt.xticks(fontsize=12, fontname='Times New Roman')\n",
    "plt.yticks(fontsize=12, fontname='Times New Roman')\n",
    "\n",
    "\n",
    "plt.savefig('d4.eps',bbox_inches='tight')\n",
    "plt.show()"
   ]
  },
  {
   "cell_type": "code",
   "execution_count": null,
   "id": "de3fd20d-1f56-44a5-9654-5fc9a327f419",
   "metadata": {},
   "outputs": [],
   "source": [
    "# save the model\n",
    "model.save('d4.h5')"
   ]
  },
  {
   "cell_type": "code",
   "execution_count": null,
   "id": "bcd694ac-af2c-4ee7-b077-fc4015db2259",
   "metadata": {},
   "outputs": [],
   "source": [
    "# load the model\n",
    "model = tf.keras.models.load_model('d4.h5')"
   ]
  },
  {
   "cell_type": "code",
   "execution_count": null,
   "id": "2e5d7a93-d85e-4937-b93b-446059333593",
   "metadata": {},
   "outputs": [],
   "source": [
    "# import the non_markov data\n",
    "# column ‘0’ is the target: robustness of coherence\n",
    "# the rest columns are the matrix elements\n",
    "\n",
    "dataset_path = 'nonmarkovPhi.csv'\n",
    "\n",
    "#nonmarkov\n",
    "\n",
    "column_names=list(range(17))\n",
    "column_names = [str(x) for x in column_names]\n",
    "raw_dataset = pd.read_csv(dataset_path, names=column_names,\n",
    "                      na_values = \"?\", comment='\\t',\n",
    "                      skipinitialspace=True)\n",
    "\n",
    "dataset = raw_dataset.copy()\n",
    "dataset.head()\n",
    "\n",
    "\n"
   ]
  },
  {
   "cell_type": "code",
   "execution_count": null,
   "id": "aa66e417-6924-47a5-a74c-a86214460219",
   "metadata": {},
   "outputs": [],
   "source": [
    "# clean the data\n",
    "dataset.isna().sum()\n",
    "dataset = dataset.dropna()\n",
    "\n",
    "labels = dataset.pop('0')\n",
    "\n"
   ]
  },
  {
   "cell_type": "code",
   "execution_count": null,
   "id": "bb0f78a6-603b-4318-9c7f-d6cf94338041",
   "metadata": {},
   "outputs": [],
   "source": [
    "# normalize the data\n",
    "def norm(x):\n",
    "  return (x - train_stats['mean']) / train_stats['std']\n",
    "normed_data = norm(dataset)\n",
    "\n",
    "normed_data=normed_data.fillna(0)"
   ]
  },
  {
   "cell_type": "code",
   "execution_count": null,
   "id": "03d91c49-24ea-4d1f-b523-162ffe25319a",
   "metadata": {},
   "outputs": [],
   "source": [
    "# check the performance of prediction\n",
    "\n",
    "\n",
    "predictions = model.predict(normed_data)\n",
    "\n",
    "plt.figure(figsize=(4,3), dpi=130)\n",
    "plt.style.use('classic')\n",
    "\n",
    "plt.plot(predictions, linestyle='-',c = (20/255,81/255,124/255), marker=\"o\",alpha=1, markeredgecolor= (20/255,81/255,124/255), markerfacecolor = 'none',markeredgewidth = 1, label='Predicted ROC')\n",
    "plt.plot(labels,'-', color='red', label= 'Actual ROC')\n",
    "plt.xlabel('$\\Gamma$t')\n",
    "plt.ylabel('ROC')\n",
    "plt.ylim([0,1])\n",
    "plt.xticks(fontsize=12, fontname='Times New Roman')  \n",
    "plt.yticks(fontsize=12, fontname='Times New Roman')  \n",
    "plt.legend()\n",
    "plt.savefig('nonmarkovphi.eps',bbox_inches='tight')"
   ]
  },
  {
   "cell_type": "code",
   "execution_count": null,
   "id": "f4d9aa55-a0b4-406c-b825-448684c202fb",
   "metadata": {},
   "outputs": [],
   "source": [
    "# save the model\n",
    "\n",
    "model.save('d4.keras')"
   ]
  },
  {
   "cell_type": "code",
   "execution_count": null,
   "id": "c43bef61-b7f4-421a-8298-daff404f6864",
   "metadata": {},
   "outputs": [],
   "source": [
    "# load the model\n",
    "\n",
    "model = tf.keras.models.load_model('d4.keras')"
   ]
  }
 ],
 "metadata": {
  "kernelspec": {
   "display_name": "Python 3 (ipykernel)",
   "language": "python",
   "name": "python3"
  },
  "language_info": {
   "codemirror_mode": {
    "name": "ipython",
    "version": 3
   },
   "file_extension": ".py",
   "mimetype": "text/x-python",
   "name": "python",
   "nbconvert_exporter": "python",
   "pygments_lexer": "ipython3",
   "version": "3.12.4"
  }
 },
 "nbformat": 4,
 "nbformat_minor": 5
}
